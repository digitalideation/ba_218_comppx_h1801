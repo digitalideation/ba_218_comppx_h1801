{
 "cells": [
  {
   "cell_type": "markdown",
   "metadata": {},
   "source": [
    "# Reference\n",
    "\n",
    "To run this code you will need to install [Matplotlib](https://matplotlib.org/users/installing.html) and [Numpy](https://www.scipy.org/install.html)\n",
    "\n",
    "If you like to run the example locally follow the instructions provided on [Keras website](https://keras.io/#installation)\n",
    "\n",
    "It's __strongly__ suggested to use a Python environments manager such as [Conda](https://conda.io/docs/) or some kind of [VirutalEnv](#)\n",
    "\n",
    "---"
   ]
  },
  {
   "cell_type": "code",
   "execution_count": 18,
   "metadata": {},
   "outputs": [
    {
     "data": {
      "text/plain": [
       "'2.1.5'"
      ]
     },
     "execution_count": 18,
     "metadata": {},
     "output_type": "execute_result"
    }
   ],
   "source": [
    "import keras\n",
    "keras.__version__"
   ]
  },
  {
   "cell_type": "markdown",
   "metadata": {},
   "source": [
    "# A second look at a neural network\n",
    "\n",
    "Let's try to adapt the shape classification model built with the `toyNN` in js before.\n",
    "\n",
    "We first need to create a dataset _manually_ to do we will define a `draw_shape` function that will help generating some random shape"
   ]
  },
  {
   "cell_type": "code",
   "execution_count": 19,
   "metadata": {},
   "outputs": [],
   "source": [
    "import math\n",
    "import random\n",
    "import matplotlib.pyplot as plt\n",
    "import numpy as np\n",
    "\n",
    "# 0 = rectangle, 1 = triangle, 2 = ellipse\n",
    "# return shape\n",
    "def draw_shape(max_size, type):\n",
    "    \n",
    "    # Random size and fixed coordinate\n",
    "#     s = math.floor(random.randrange(1, max_size-4))\n",
    "#     x = math.floor(max_size/2)\n",
    "#     y = math.floor(max_size/2)\n",
    "\n",
    "    # Not so random size and random coordinate\n",
    "    s = int(random.randrange(max_size/2, max_size))\n",
    "    x = int(random.randrange(int(s/2), max_size-int(s/2)))\n",
    "    y = int(random.randrange(int(s/2), max_size-int(s/2)))\n",
    "\n",
    "    type = type%3\n",
    "    \n",
    "    if type == 0:\n",
    "        art = plt.Rectangle((x-s/2, y-s/2), s, s, color='r')\n",
    "\n",
    "    if type == 1:\n",
    "        verts = [\n",
    "            (x-s/2, y-s/2),\n",
    "            (x, y+s/2),\n",
    "            (x+s/2, y-s/2)\n",
    "        ]\n",
    "        art = plt.Polygon(verts, color='r')\n",
    "\n",
    "    if type == 2:\n",
    "        art = plt.Circle((x, y), s/2, color='r')\n",
    "    \n",
    "    return art"
   ]
  },
  {
   "cell_type": "markdown",
   "metadata": {},
   "source": [
    "We also define a helper function that convert a matplotlib figure to a np array"
   ]
  },
  {
   "cell_type": "code",
   "execution_count": 20,
   "metadata": {},
   "outputs": [],
   "source": [
    "# https://stackoverflow.com/a/7821917\n",
    "def fig2rgb_array(fig):\n",
    "    fig.canvas.draw()\n",
    "    buf = fig.canvas.tostring_rgb()\n",
    "    ncols, nrows = fig.canvas.get_width_height()\n",
    "    return np.frombuffer(buf, dtype=np.uint8).reshape(nrows, ncols, 3)"
   ]
  },
  {
   "cell_type": "markdown",
   "metadata": {},
   "source": [
    "Let's test the function see if it works as expected"
   ]
  },
  {
   "cell_type": "code",
   "execution_count": 21,
   "metadata": {},
   "outputs": [
    {
     "name": "stdout",
     "output_type": "stream",
     "text": [
      "(48, 48, 3)\n"
     ]
    },
    {
     "data": {
      "image/png": "[encoded data removed]",
      "text/plain": [
       "<Figure size 48x48 with 1 Axes>"
      ]
     },
     "metadata": {},
     "output_type": "display_data"
    }
   ],
   "source": [
    "# Image and dataset size we are going to use\n",
    "image_size = 48\n",
    "dataset_size = 5000\n",
    "\n",
    "# Create plot's figure and axes\n",
    "# https://stackoverflow.com/a/638443\n",
    "fig = plt.figure(figsize=(1,1), dpi=image_size)\n",
    "ax = fig.add_subplot(111)\n",
    "\n",
    "# Setting for the axes\n",
    "ax.set_xlim(0,image_size)\n",
    "ax.set_ylim(0,image_size)\n",
    "# ax.axis('off')\n",
    "\n",
    "# Draw a random shape\n",
    "art = draw_shape(image_size,random.randint(0,2))\n",
    "# Add the shape to the plot\n",
    "# https://stackoverflow.com/a/29184075\n",
    "plt.gcf().gca().add_artist(art)\n",
    "# gcf() means Get Current Figure\n",
    "# gca() means Get Current Axis\n",
    "\n",
    "# convert the figure to an array\n",
    "data = fig2rgb_array(fig)\n",
    "print(data.shape)"
   ]
  },
  {
   "cell_type": "markdown",
   "metadata": {},
   "source": [
    "Let's create a loop that will generate a small dataset for us"
   ]
  },
  {
   "cell_type": "code",
   "execution_count": 22,
   "metadata": {},
   "outputs": [
    {
     "name": "stdout",
     "output_type": "stream",
     "text": [
      "(5000, 48, 48, 3)\n",
      "(5000,)\n"
     ]
    },
    {
     "data": {
      "image/png": "[encoded data removed]",
      "text/plain": [
       "<Figure size 48x48 with 1 Axes>"
      ]
     },
     "metadata": {},
     "output_type": "display_data"
    }
   ],
   "source": [
    "def generate_dataset(image_size, dataset_size):\n",
    "\n",
    "    # Those variable will contain the images and associated labels\n",
    "    images = np.zeros((dataset_size, image_size, image_size, 3))\n",
    "    labels = np.zeros((dataset_size))\n",
    "    \n",
    "    # The plot figure we will use to generate the shapes\n",
    "    fig = plt.figure(figsize=(1,1), dpi=image_size)\n",
    "\n",
    "    for i in range(dataset_size):\n",
    "        \n",
    "        # Clear the figure\n",
    "        fig.clf()\n",
    "        \n",
    "        # Recreate the axes\n",
    "        ax = fig.add_subplot(111)\n",
    "        ax.set_xlim(0, image_size)\n",
    "        ax.set_ylim(0, image_size)\n",
    "        ax.axis('off')\n",
    "        \n",
    "        # Define label\n",
    "        label = i%3\n",
    "        art = draw_shape(image_size, label)\n",
    "        plt.gcf().gca().add_artist(art)\n",
    "        \n",
    "        # Add values to the arrays\n",
    "        images[i] = fig2rgb_array(fig)\n",
    "        labels[i] = label\n",
    "        \n",
    "    return images, labels\n",
    "\n",
    "# Generate our dataset\n",
    "images, labels = generate_dataset(image_size, dataset_size)\n",
    "print(images.shape)\n",
    "print(labels.shape)"
   ]
  },
  {
   "cell_type": "markdown",
   "metadata": {},
   "source": [
    "Eventually we can save our dataset for later, since it takes quite some time to generate it 😉"
   ]
  },
  {
   "cell_type": "code",
   "execution_count": 24,
   "metadata": {},
   "outputs": [],
   "source": [
    "# np.save('datasets/shape-example-shapes1.npy', images)\n",
    "# np.save('datasets/shape-example-labels1.npy', labels)"
   ]
  },
  {
   "cell_type": "markdown",
   "metadata": {},
   "source": [
    "If we need to load it we can then use the following code"
   ]
  },
  {
   "cell_type": "code",
   "execution_count": 14,
   "metadata": {},
   "outputs": [],
   "source": [
    "images = np.load('datasets/shape-example-shapes1.npy')\n",
    "labels = np.load('datasets/shape-example-labels1.npy')"
   ]
  },
  {
   "cell_type": "markdown",
   "metadata": {},
   "source": [
    "We split our dataset manually in training and testing set"
   ]
  },
  {
   "cell_type": "code",
   "execution_count": 30,
   "metadata": {},
   "outputs": [
    {
     "name": "stdout",
     "output_type": "stream",
     "text": [
      "(4000, 48, 48, 3)\n",
      "(4000,)\n"
     ]
    },
    {
     "data": {
      "text/plain": [
       "<matplotlib.image.AxesImage at 0x183b108cc0>"
      ]
     },
     "execution_count": 30,
     "metadata": {},
     "output_type": "execute_result"
    },
    {
     "data": {
      "image/png": "[encoded data removed]",
      "text/plain": [
       "<Figure size 1152x288 with 1 Axes>"
      ]
     },
     "metadata": {},
     "output_type": "display_data"
    }
   ],
   "source": [
    "# Define the size of the training set, here we use 80% of the total samples for training\n",
    "train_size = int(dataset_size*.8)\n",
    "\n",
    "# TODO: We should shuffle the dataset\n",
    "\n",
    "# Split the dataset into train and test dataset\n",
    "train_images, test_images = images[:train_size], images[train_size:]\n",
    "train_labels, test_labels = labels[:train_size], labels[train_size:]\n",
    "\n",
    "# Verify the data\n",
    "print(train_images.shape)\n",
    "print(train_labels.shape)\n",
    "\n",
    "# sample_images = []\n",
    "# for label, image in list(zip(train_labels, train_images))[:10]:\n",
    "#     fig1, ax1 = plt.subplots()\n",
    "#     ax1.axis('off')\n",
    "#     plt.title(label)\n",
    "#     fig1.add_subplot(111).imshow(image/255)\n",
    "\n",
    "full_image = np.concatenate(train_images[:12]/255, axis=1)\n",
    "plt.figure(figsize=(16,4))\n",
    "plt.imshow(full_image)"
   ]
  },
  {
   "cell_type": "markdown",
   "metadata": {},
   "source": [
    "Now we can create our model"
   ]
  },
  {
   "cell_type": "code",
   "execution_count": 31,
   "metadata": {},
   "outputs": [],
   "source": [
    "from keras import models\n",
    "from keras import layers\n",
    "\n",
    "network = models.Sequential()\n",
    "network.add(layers.Dense(512, activation='sigmoid', input_shape=(3 * image_size * image_size,)))\n",
    "network.add(layers.Dense(3, activation='softmax'))"
   ]
  },
  {
   "cell_type": "markdown",
   "metadata": {},
   "source": [
    "And compile it"
   ]
  },
  {
   "cell_type": "code",
   "execution_count": 32,
   "metadata": {},
   "outputs": [],
   "source": [
    "network.compile(optimizer='adam',\n",
    "                loss='categorical_crossentropy',\n",
    "                metrics=['accuracy'])"
   ]
  },
  {
   "cell_type": "markdown",
   "metadata": {},
   "source": [
    "Before training, we will preprocess our data by reshaping it into the shape that the network expects, and scaling it so that all values are in the `[0, 1]` interval. Then we also need to categorically encode the labels."
   ]
  },
  {
   "cell_type": "code",
   "execution_count": 33,
   "metadata": {},
   "outputs": [],
   "source": [
    "# Reshape data\n",
    "train_images = train_images.reshape((len(train_images), 3 * image_size * image_size))\n",
    "train_images = train_images.astype('float32') / 255\n",
    "\n",
    "test_images = test_images.reshape((len(test_images), 3 * image_size * image_size))\n",
    "test_images = test_images.astype('float32') / 255\n",
    "\n",
    "# Encode to categorical\n",
    "from keras.utils import to_categorical\n",
    "\n",
    "train_labels = to_categorical(train_labels)\n",
    "test_labels = to_categorical(test_labels)"
   ]
  },
  {
   "cell_type": "markdown",
   "metadata": {},
   "source": [
    "Then we can start the training"
   ]
  },
  {
   "cell_type": "code",
   "execution_count": 34,
   "metadata": {},
   "outputs": [
    {
     "name": "stdout",
     "output_type": "stream",
     "text": [
      "Epoch 1/100\n",
      "4000/4000 [==============================] - 2s 593us/step - loss: 5.7754 - acc: 0.3322\n",
      "Epoch 2/100\n",
      "4000/4000 [==============================] - 2s 581us/step - loss: 5.8295 - acc: 0.3755\n",
      "Epoch 3/100\n",
      "4000/4000 [==============================] - 2s 489us/step - loss: 5.8201 - acc: 0.3985\n",
      "Epoch 4/100\n",
      "4000/4000 [==============================] - 2s 480us/step - loss: 5.7874 - acc: 0.5315\n",
      "Epoch 5/100\n",
      "4000/4000 [==============================] - 3s 725us/step - loss: 5.7428 - acc: 0.5773\n",
      "Epoch 6/100\n",
      "4000/4000 [==============================] - 2s 624us/step - loss: 5.7036 - acc: 0.5950\n",
      "Epoch 7/100\n",
      "4000/4000 [==============================] - 2s 614us/step - loss: 5.6592 - acc: 0.6093\n",
      "Epoch 8/100\n",
      "4000/4000 [==============================] - 2s 529us/step - loss: 5.6289 - acc: 0.6120\n",
      "Epoch 9/100\n",
      "4000/4000 [==============================] - 2s 546us/step - loss: 5.6046 - acc: 0.6168\n",
      "Epoch 10/100\n",
      "4000/4000 [==============================] - 3s 801us/step - loss: 5.5918 - acc: 0.6075\n",
      "Epoch 11/100\n",
      "4000/4000 [==============================] - 3s 737us/step - loss: 5.5606 - acc: 0.6278\n",
      "Epoch 12/100\n",
      "4000/4000 [==============================] - 3s 778us/step - loss: 5.5592 - acc: 0.6195\n",
      "Epoch 13/100\n",
      "4000/4000 [==============================] - 2s 619us/step - loss: 5.5394 - acc: 0.6282\n",
      "Epoch 14/100\n",
      "4000/4000 [==============================] - 2s 389us/step - loss: 5.5241 - acc: 0.6287\n",
      "Epoch 15/100\n",
      "4000/4000 [==============================] - 2s 408us/step - loss: 5.5160 - acc: 0.6325\n",
      "Epoch 16/100\n",
      "4000/4000 [==============================] - 1s 343us/step - loss: 5.5152 - acc: 0.6272\n",
      "Epoch 17/100\n",
      "4000/4000 [==============================] - 1s 340us/step - loss: 5.5006 - acc: 0.6332\n",
      "Epoch 18/100\n",
      "4000/4000 [==============================] - 1s 346us/step - loss: 5.4926 - acc: 0.6355\n",
      "Epoch 19/100\n",
      "4000/4000 [==============================] - 2s 486us/step - loss: 5.4979 - acc: 0.6290\n",
      "Epoch 20/100\n",
      "4000/4000 [==============================] - 2s 488us/step - loss: 5.4828 - acc: 0.6420\n",
      "Epoch 21/100\n",
      "4000/4000 [==============================] - 2s 452us/step - loss: 5.4766 - acc: 0.6382\n",
      "Epoch 22/100\n",
      "4000/4000 [==============================] - 2s 525us/step - loss: 5.4726 - acc: 0.6410\n",
      "Epoch 23/100\n",
      "4000/4000 [==============================] - 2s 421us/step - loss: 5.4680 - acc: 0.6415\n",
      "Epoch 24/100\n",
      "4000/4000 [==============================] - 2s 470us/step - loss: 5.4740 - acc: 0.6372\n",
      "Epoch 25/100\n",
      "4000/4000 [==============================] - 2s 408us/step - loss: 5.4638 - acc: 0.6415\n",
      "Epoch 26/100\n",
      "4000/4000 [==============================] - 2s 429us/step - loss: 5.4587 - acc: 0.6450\n",
      "Epoch 27/100\n",
      "4000/4000 [==============================] - 2s 418us/step - loss: 5.4539 - acc: 0.6458\n",
      "Epoch 28/100\n",
      "4000/4000 [==============================] - 2s 441us/step - loss: 5.4530 - acc: 0.6430\n",
      "Epoch 29/100\n",
      "4000/4000 [==============================] - 2s 415us/step - loss: 5.4503 - acc: 0.6465\n",
      "Epoch 30/100\n",
      "4000/4000 [==============================] - 2s 418us/step - loss: 5.4509 - acc: 0.6478\n",
      "Epoch 31/100\n",
      "4000/4000 [==============================] - 2s 435us/step - loss: 5.4460 - acc: 0.6470\n",
      "Epoch 32/100\n",
      "4000/4000 [==============================] - 2s 430us/step - loss: 5.4414 - acc: 0.6475\n",
      "Epoch 33/100\n",
      "4000/4000 [==============================] - 2s 462us/step - loss: 5.4389 - acc: 0.6515\n",
      "Epoch 34/100\n",
      "4000/4000 [==============================] - 2s 421us/step - loss: 5.4358 - acc: 0.6512\n",
      "Epoch 35/100\n",
      "4000/4000 [==============================] - 2s 423us/step - loss: 5.4310 - acc: 0.6525\n",
      "Epoch 36/100\n",
      "4000/4000 [==============================] - 2s 408us/step - loss: 5.4411 - acc: 0.6448\n",
      "Epoch 37/100\n",
      "4000/4000 [==============================] - 2s 456us/step - loss: 5.4347 - acc: 0.6527\n",
      "Epoch 38/100\n",
      "4000/4000 [==============================] - 2s 394us/step - loss: 5.4345 - acc: 0.6502\n",
      "Epoch 39/100\n",
      "4000/4000 [==============================] - 2s 434us/step - loss: 5.4262 - acc: 0.6550\n",
      "Epoch 40/100\n",
      "4000/4000 [==============================] - 2s 469us/step - loss: 5.4225 - acc: 0.6552\n",
      "Epoch 41/100\n",
      "4000/4000 [==============================] - 2s 468us/step - loss: 5.4334 - acc: 0.6480\n",
      "Epoch 42/100\n",
      "4000/4000 [==============================] - 2s 423us/step - loss: 5.4551 - acc: 0.6358\n",
      "Epoch 43/100\n",
      "4000/4000 [==============================] - 2s 419us/step - loss: 5.4325 - acc: 0.6540\n",
      "Epoch 44/100\n",
      "4000/4000 [==============================] - 2s 412us/step - loss: 5.4291 - acc: 0.6542\n",
      "Epoch 45/100\n",
      "4000/4000 [==============================] - 2s 458us/step - loss: 5.4305 - acc: 0.6515\n",
      "Epoch 46/100\n",
      "4000/4000 [==============================] - 2s 438us/step - loss: 5.4173 - acc: 0.6557\n",
      "Epoch 47/100\n",
      "4000/4000 [==============================] - 2s 433us/step - loss: 5.4143 - acc: 0.6573\n",
      "Epoch 48/100\n",
      "4000/4000 [==============================] - 2s 406us/step - loss: 5.4146 - acc: 0.6565\n",
      "Epoch 49/100\n",
      "4000/4000 [==============================] - 2s 443us/step - loss: 5.4141 - acc: 0.6577\n",
      "Epoch 50/100\n",
      "4000/4000 [==============================] - 2s 457us/step - loss: 5.4108 - acc: 0.6577\n",
      "Epoch 51/100\n",
      "4000/4000 [==============================] - 2s 393us/step - loss: 5.4202 - acc: 0.6550\n",
      "Epoch 52/100\n",
      "4000/4000 [==============================] - 2s 420us/step - loss: 5.4133 - acc: 0.6573\n",
      "Epoch 53/100\n",
      "4000/4000 [==============================] - 2s 421us/step - loss: 5.4117 - acc: 0.6560\n",
      "Epoch 54/100\n",
      "4000/4000 [==============================] - 3s 643us/step - loss: 5.4090 - acc: 0.6590\n",
      "Epoch 55/100\n",
      "4000/4000 [==============================] - 2s 573us/step - loss: 5.4043 - acc: 0.6610\n",
      "Epoch 56/100\n",
      "4000/4000 [==============================] - 2s 573us/step - loss: 5.4057 - acc: 0.6605\n",
      "Epoch 57/100\n",
      "4000/4000 [==============================] - 2s 507us/step - loss: 5.4050 - acc: 0.6593\n",
      "Epoch 58/100\n",
      "4000/4000 [==============================] - 2s 484us/step - loss: 5.4155 - acc: 0.6570\n",
      "Epoch 59/100\n",
      "4000/4000 [==============================] - 2s 458us/step - loss: 5.4043 - acc: 0.6610\n",
      "Epoch 60/100\n",
      "4000/4000 [==============================] - 2s 447us/step - loss: 5.3997 - acc: 0.6635\n",
      "Epoch 61/100\n",
      "4000/4000 [==============================] - 2s 423us/step - loss: 5.3995 - acc: 0.6613\n",
      "Epoch 62/100\n",
      "4000/4000 [==============================] - 2s 396us/step - loss: 5.3982 - acc: 0.6635\n",
      "Epoch 63/100\n",
      "4000/4000 [==============================] - 2s 400us/step - loss: 5.3995 - acc: 0.6623\n",
      "Epoch 64/100\n",
      "4000/4000 [==============================] - 2s 390us/step - loss: 5.4001 - acc: 0.6607\n",
      "Epoch 65/100\n",
      "4000/4000 [==============================] - 2s 411us/step - loss: 5.3985 - acc: 0.6615\n",
      "Epoch 66/100\n",
      "4000/4000 [==============================] - 2s 401us/step - loss: 5.3982 - acc: 0.6625\n",
      "Epoch 67/100\n",
      "4000/4000 [==============================] - 2s 508us/step - loss: 5.3985 - acc: 0.6625\n",
      "Epoch 68/100\n",
      "4000/4000 [==============================] - 3s 779us/step - loss: 5.4052 - acc: 0.6590\n",
      "Epoch 69/100\n",
      "4000/4000 [==============================] - 3s 855us/step - loss: 5.3968 - acc: 0.6633\n",
      "Epoch 70/100\n",
      "4000/4000 [==============================] - 3s 684us/step - loss: 5.3986 - acc: 0.6633\n",
      "Epoch 71/100\n",
      "4000/4000 [==============================] - 3s 658us/step - loss: 5.3983 - acc: 0.6615\n",
      "Epoch 72/100\n",
      "4000/4000 [==============================] - 2s 392us/step - loss: 5.3947 - acc: 0.6635\n",
      "Epoch 73/100\n",
      "4000/4000 [==============================] - 1s 360us/step - loss: 5.3927 - acc: 0.6647\n",
      "Epoch 74/100\n",
      "4000/4000 [==============================] - 1s 354us/step - loss: 5.3929 - acc: 0.6647\n",
      "Epoch 75/100\n",
      "4000/4000 [==============================] - 2s 417us/step - loss: 5.3917 - acc: 0.6650\n",
      "Epoch 76/100\n",
      "4000/4000 [==============================] - 2s 458us/step - loss: 5.3934 - acc: 0.6637\n",
      "Epoch 77/100\n",
      "4000/4000 [==============================] - 2s 431us/step - loss: 5.3914 - acc: 0.6650\n",
      "Epoch 78/100\n",
      "4000/4000 [==============================] - 2s 387us/step - loss: 5.3955 - acc: 0.6643\n",
      "Epoch 79/100\n",
      "4000/4000 [==============================] - 2s 611us/step - loss: 5.3966 - acc: 0.6630\n",
      "Epoch 80/100\n",
      "4000/4000 [==============================] - 3s 667us/step - loss: 5.3888 - acc: 0.6655\n",
      "Epoch 81/100\n",
      "4000/4000 [==============================] - 2s 462us/step - loss: 5.3891 - acc: 0.6650\n",
      "Epoch 82/100\n"
     ]
    },
    {
     "name": "stdout",
     "output_type": "stream",
     "text": [
      "4000/4000 [==============================] - 2s 479us/step - loss: 5.3883 - acc: 0.6653\n",
      "Epoch 83/100\n",
      "4000/4000 [==============================] - 2s 439us/step - loss: 5.3930 - acc: 0.6647\n",
      "Epoch 84/100\n",
      "4000/4000 [==============================] - 2s 465us/step - loss: 5.3904 - acc: 0.6647\n",
      "Epoch 85/100\n",
      "4000/4000 [==============================] - 2s 440us/step - loss: 5.3876 - acc: 0.6653\n",
      "Epoch 86/100\n",
      "4000/4000 [==============================] - 2s 449us/step - loss: 5.3900 - acc: 0.6643\n",
      "Epoch 87/100\n",
      "4000/4000 [==============================] - 2s 481us/step - loss: 5.4102 - acc: 0.6552\n",
      "Epoch 88/100\n",
      "4000/4000 [==============================] - 3s 688us/step - loss: 5.3900 - acc: 0.6653\n",
      "Epoch 89/100\n",
      "4000/4000 [==============================] - 5s 1ms/step - loss: 5.3926 - acc: 0.6628\n",
      "Epoch 90/100\n",
      "4000/4000 [==============================] - 4s 1000us/step - loss: 5.3928 - acc: 0.6635\n",
      "Epoch 91/100\n",
      "4000/4000 [==============================] - 2s 488us/step - loss: 5.3883 - acc: 0.6647\n",
      "Epoch 92/100\n",
      "4000/4000 [==============================] - 2s 383us/step - loss: 5.3851 - acc: 0.6658\n",
      "Epoch 93/100\n",
      "4000/4000 [==============================] - 2s 389us/step - loss: 5.3850 - acc: 0.6658\n",
      "Epoch 94/100\n",
      "4000/4000 [==============================] - 2s 394us/step - loss: 5.3843 - acc: 0.6660\n",
      "Epoch 95/100\n",
      "4000/4000 [==============================] - 2s 390us/step - loss: 5.3837 - acc: 0.6660\n",
      "Epoch 96/100\n",
      "4000/4000 [==============================] - 2s 427us/step - loss: 5.3839 - acc: 0.6658\n",
      "Epoch 97/100\n",
      "4000/4000 [==============================] - 2s 413us/step - loss: 5.3863 - acc: 0.6658\n",
      "Epoch 98/100\n",
      "4000/4000 [==============================] - 2s 385us/step - loss: 5.3837 - acc: 0.6660\n",
      "Epoch 99/100\n",
      "4000/4000 [==============================] - 2s 400us/step - loss: 5.3830 - acc: 0.6660\n",
      "Epoch 100/100\n",
      "4000/4000 [==============================] - 2s 509us/step - loss: 5.3835 - acc: 0.6660\n"
     ]
    },
    {
     "data": {
      "text/plain": [
       "<keras.callbacks.History at 0x183b3ab908>"
      ]
     },
     "execution_count": 34,
     "metadata": {},
     "output_type": "execute_result"
    }
   ],
   "source": [
    "network.fit(train_images, train_labels, epochs=100, batch_size=128)"
   ]
  },
  {
   "cell_type": "code",
   "execution_count": 585,
   "metadata": {},
   "outputs": [
    {
     "name": "stdout",
     "output_type": "stream",
     "text": [
      "200/200 [==============================] - 0s 901us/step\n"
     ]
    }
   ],
   "source": [
    "test_loss, test_acc = network.evaluate(test_images, test_labels)"
   ]
  },
  {
   "cell_type": "code",
   "execution_count": 586,
   "metadata": {},
   "outputs": [
    {
     "name": "stdout",
     "output_type": "stream",
     "text": [
      "test_acc: 0.98\n"
     ]
    }
   ],
   "source": [
    "print('test_acc:', test_acc)"
   ]
  },
  {
   "cell_type": "code",
   "execution_count": 588,
   "metadata": {},
   "outputs": [
    {
     "data": {
      "image/png": "[encoded data removed]",
      "text/plain": [
       "<Figure size 432x288 with 2 Axes>"
      ]
     },
     "metadata": {},
     "output_type": "display_data"
    },
    {
     "data": {
      "image/png": "[encoded data removed]",
      "text/plain": [
       "<Figure size 432x288 with 2 Axes>"
      ]
     },
     "metadata": {},
     "output_type": "display_data"
    },
    {
     "data": {
      "image/png": "[encoded data removed]",
      "text/plain": [
       "<Figure size 432x288 with 2 Axes>"
      ]
     },
     "metadata": {},
     "output_type": "display_data"
    },
    {
     "data": {
      "image/png": "[encoded data removed]",
      "text/plain": [
       "<Figure size 432x288 with 2 Axes>"
      ]
     },
     "metadata": {},
     "output_type": "display_data"
    }
   ],
   "source": [
    "for label, image in list(zip(test_labels, test_images)):\n",
    "    prediction = network.predict(np.array([image,]))\n",
    "    if not prediction.argmax() == label.argmax():\n",
    "        image = image.reshape(48, 48, 3)\n",
    "        fig1, ax1 = plt.subplots()\n",
    "        ax1.axis('off')\n",
    "        plt.title('predicted:' + str(prediction.argmax()))\n",
    "        fig1.add_subplot(111).imshow(image)    "
   ]
  },
  {
   "cell_type": "code",
   "execution_count": null,
   "metadata": {},
   "outputs": [],
   "source": []
  }
 ],
 "metadata": {
  "kernelspec": {
   "display_name": "Python 3",
   "language": "python",
   "name": "python3"
  },
  "language_info": {
   "codemirror_mode": {
    "name": "ipython",
    "version": 3
   },
   "file_extension": ".py",
   "mimetype": "text/x-python",
   "name": "python",
   "nbconvert_exporter": "python",
   "pygments_lexer": "ipython3",
   "version": "3.6.4"
  }
 },
 "nbformat": 4,
 "nbformat_minor": 2
}
